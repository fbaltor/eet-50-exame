{
 "cells": [
  {
   "cell_type": "code",
   "execution_count": 27,
   "id": "92d9417f",
   "metadata": {},
   "outputs": [
    {
     "ename": "AttributeError",
     "evalue": "module 'digcommpy.metrics' has no attribute 'snr'",
     "output_type": "error",
     "traceback": [
      "\u001b[0;31m---------------------------------------------------------------------------\u001b[0m",
      "\u001b[0;31mAttributeError\u001b[0m                            Traceback (most recent call last)",
      "Cell \u001b[0;32mIn[27], line 21\u001b[0m\n\u001b[1;32m     18\u001b[0m channel_output \u001b[38;5;241m=\u001b[39m channel\u001b[38;5;241m.\u001b[39mtransmit_data(channel_input)\n\u001b[1;32m     19\u001b[0m est_mess \u001b[38;5;241m=\u001b[39m demodulator\u001b[38;5;241m.\u001b[39mdemodulate_symbols(channel_output)\n\u001b[0;32m---> 21\u001b[0m ber \u001b[38;5;241m=\u001b[39m \u001b[43mmetrics\u001b[49m\u001b[38;5;241;43m.\u001b[39;49m\u001b[43msnr\u001b[49m(channel_input, channel_output)\n\u001b[1;32m     22\u001b[0m \u001b[38;5;28mprint\u001b[39m(\u001b[38;5;124m\"\u001b[39m\u001b[38;5;124mThe BER is \u001b[39m\u001b[38;5;132;01m{}\u001b[39;00m\u001b[38;5;124m\"\u001b[39m\u001b[38;5;241m.\u001b[39mformat(ber))\n",
      "\u001b[0;31mAttributeError\u001b[0m: module 'digcommpy.metrics' has no attribute 'snr'"
     ]
    }
   ],
   "source": [
    "from digcommpy import messages, encoders, decoders, channels, modulators, demodulators, metrics\n",
    "\n",
    "# Parameters\n",
    "N = int(1e3)\n",
    "snr = 5.  # dB\n",
    "\n",
    "# Blocks\n",
    "modulator = modulators.QamModulator()\n",
    "demodulator = demodulators.QamDemodulator()\n",
    "channel = channels.AwgnChannel(snr)\n",
    "\n",
    "\n",
    "# Simulation\n",
    "mess = messages.generate_data(2, N, binary=True)\n",
    "\n",
    "channel_input = modulator.modulate_symbols(mess)\n",
    "\n",
    "channel_output = channel.transmit_data(channel_input)\n",
    "est_mess = demodulator.demodulate_symbols(channel_output)\n",
    "\n",
    "ber = metrics.\n",
    "print(\"The BER is {}\".format(ber))\n"
   ]
  }
 ],
 "metadata": {
  "kernelspec": {
   "display_name": "Python 3 (ipykernel)",
   "language": "python",
   "name": "python3"
  },
  "language_info": {
   "codemirror_mode": {
    "name": "ipython",
    "version": 3
   },
   "file_extension": ".py",
   "mimetype": "text/x-python",
   "name": "python",
   "nbconvert_exporter": "python",
   "pygments_lexer": "ipython3",
   "version": "3.10.12"
  }
 },
 "nbformat": 4,
 "nbformat_minor": 5
}
